{
 "cells": [
  {
   "cell_type": "markdown",
   "metadata": {},
   "source": [
    "# WeatherPy\n",
    "----\n",
    "\n",
    "#### Note\n",
    "* Instructions have been included for each segment. You do not have to follow them exactly, but they are included to help you think through the steps."
   ]
  },
  {
   "cell_type": "code",
   "execution_count": 1,
   "metadata": {
    "scrolled": true
   },
   "outputs": [],
   "source": [
    "# Dependencies and Setup\n",
    "import array\n",
    "import matplotlib.pyplot as plt\n",
    "import pandas as pd\n",
    "import numpy as np\n",
    "import requests\n",
    "import time\n",
    "from scipy.stats import linregress\n",
    "import json\n",
    "# Import API key\n",
    "from api_key_file import weather_api_key  \n",
    "\n",
    "# Incorporated citipy to determine city based on latitude and longitude\n",
    "from citipy import citipy\n",
    "\n",
    "# Output File (CSV)\n",
    "output_data_file = \"output_data/cities.csv\"\n",
    "\n",
    "# Range of latitudes and longitudes\n",
    "lat_range = (-90, 90)\n",
    "lng_range = (-180, 180)"
   ]
  },
  {
   "cell_type": "code",
   "execution_count": 2,
   "metadata": {},
   "outputs": [],
   "source": [
    "#weather_api_key  "
   ]
  },
  {
   "cell_type": "markdown",
   "metadata": {},
   "source": [
    "## Generate Cities List"
   ]
  },
  {
   "cell_type": "code",
   "execution_count": 3,
   "metadata": {
    "tags": []
   },
   "outputs": [
    {
     "data": {
      "text/plain": [
       "604"
      ]
     },
     "execution_count": 3,
     "metadata": {},
     "output_type": "execute_result"
    }
   ],
   "source": [
    "# List for holding lat_lngs and cities\n",
    "lat_lngs = []\n",
    "cities = []\n",
    "\n",
    "# Create a set of random lat and lng combinations\n",
    "lats = np.random.uniform(lat_range[0], lat_range[1], size=1500)\n",
    "lngs = np.random.uniform(lng_range[0], lng_range[1], size=1500)\n",
    "lat_lngs = zip(lats, lngs)\n",
    "\n",
    "# Identify nearest city for each lat, lng combination\n",
    "for lat_lng in lat_lngs:\n",
    "    city = citipy.nearest_city(lat_lng[0], lat_lng[1]).city_name\n",
    "    \n",
    "    # If the city is unique, then add it to a our cities list\n",
    "    if city not in cities:\n",
    "        cities.append(city)\n",
    "\n",
    "# Print the city count to confirm sufficient count\n",
    "len(cities)"
   ]
  },
  {
   "cell_type": "markdown",
   "metadata": {},
   "source": [
    "### Perform API Calls\n",
    "* Perform a weather check on each city using a series of successive API calls.\n",
    "* Include a print log of each city as it'sbeing processed (with the city number and city name).\n",
    "\n",
    "> **HINT:** The OpenWeatherMap API only allows 60 calls per minute under their free plan. Try using `time.sleep(60)` after each set of 50 cities to avoid API errors due to large calls."
   ]
  },
  {
   "cell_type": "code",
   "execution_count": 4,
   "metadata": {},
   "outputs": [],
   "source": [
    "#data_json.keys()\n"
   ]
  },
  {
   "cell_type": "code",
   "execution_count": null,
   "metadata": {},
   "outputs": [
    {
     "name": "stdout",
     "output_type": "stream",
     "text": [
      "1 Procesing city:  comodoro rivadavia\n",
      "2 Procesing city:  mataura\n",
      "3 Procesing city:  abha\n",
      "4 Procesing city:  cabo san lucas\n",
      "5 Procesing city:  merauke\n",
      "6 Procesing city:  korla\n",
      "7 Procesing city:  kapaa\n",
      "8 Procesing city:  atuona\n",
      "9 Procesing city:  kyrylivka\n",
      "10 Procesing city:  rikitea\n",
      "11 Procesing city:  qaanaaq\n",
      "12 Procesing city:  melo\n",
      "13 City not found: grand river south east\n",
      "14 Procesing city:  albany\n",
      "15 Procesing city:  punta arenas\n",
      "16 Procesing city:  mahebourg\n",
      "17 Procesing city:  busselton\n",
      "18 Procesing city:  abalak\n",
      "19 Procesing city:  newport\n",
      "20 Procesing city:  teitipac\n",
      "21 Procesing city:  sao joao da barra\n",
      "22 Procesing city:  katsuura\n",
      "23 City not found: senmonorom\n",
      "24 Procesing city:  beringovskiy\n",
      "25 Procesing city:  east london\n",
      "26 Procesing city:  bredasdorp\n",
      "27 Procesing city:  harer\n",
      "28 Procesing city:  alta floresta\n",
      "29 Procesing city:  mapimi\n",
      "30 Procesing city:  hermanus\n",
      "31 Procesing city:  saskylakh\n",
      "32 Procesing city:  ancud\n",
      "33 Procesing city:  puerto ayora\n",
      "34 City not found: barentsburg\n",
      "35 Procesing city:  vaini\n",
      "36 Procesing city:  parkes\n",
      "37 City not found: illoqqortoormiut\n",
      "38 City not found: belushya guba\n",
      "39 Procesing city:  zirovnice\n",
      "40 Procesing city:  bokoro\n",
      "41 Procesing city:  saint george\n",
      "42 City not found: artyk\n",
      "43 Procesing city:  hasaki\n",
      "44 City not found: nguiu\n",
      "45 Procesing city:  kaitangata\n",
      "46 Procesing city:  hilo\n",
      "47 Procesing city:  cherskiy\n",
      "48 Procesing city:  kletskaya\n",
      "49 Procesing city:  soyo\n",
      "50 Procesing city:  mar del plata\n",
      "51 Procesing city:  victoria\n",
      "52 Procesing city:  port alfred\n",
      "53 Procesing city:  tuatapere\n",
      "54 Procesing city:  severo-kurilsk\n",
      "55 Procesing city:  thompson\n",
      "56 Procesing city:  peniche\n",
      "57 Procesing city:  richards bay\n",
      "58 Procesing city:  guerrero negro\n",
      "59 Procesing city:  bethel\n",
      "60 Procesing city:  vredendal\n",
      "61 Procesing city:  macia\n",
      "62 Procesing city:  carnarvon\n",
      "63 City not found: taolanaro\n",
      "64 Procesing city:  hamilton\n",
      "65 Procesing city:  butaritari\n",
      "66 Procesing city:  saint-philippe\n",
      "67 Procesing city:  caravelas\n",
      "68 Procesing city:  bandar-e anzali\n",
      "69 Procesing city:  mayskiy\n",
      "70 Procesing city:  zhanaozen\n",
      "71 City not found: westpunt\n",
      "72 Procesing city:  kununurra\n",
      "73 Procesing city:  bluff\n",
      "74 Procesing city:  arraial do cabo\n",
      "75 Procesing city:  hearst\n",
      "76 Procesing city:  kahului\n",
      "77 Procesing city:  benito juarez\n",
      "78 Procesing city:  hobart\n",
      "79 City not found: saleaula\n",
      "80 Procesing city:  manaus\n",
      "81 Procesing city:  new norfolk\n",
      "82 Procesing city:  leningradskiy\n",
      "83 City not found: sentyabrskiy\n",
      "84 City not found: nizhneyansk\n",
      "85 Procesing city:  pelym\n",
      "86 Procesing city:  upernavik\n",
      "87 Procesing city:  norman wells\n",
      "88 Procesing city:  umm kaddadah\n",
      "89 Procesing city:  pacific grove\n",
      "90 Procesing city:  castelo do piaui\n",
      "91 City not found: tsienyane\n",
      "92 Procesing city:  aksu\n",
      "93 Procesing city:  jamestown\n",
      "94 City not found: palabuhanratu\n",
      "95 Procesing city:  dicabisagan\n",
      "96 Procesing city:  zhob\n",
      "97 Procesing city:  clyde river\n",
      "98 Procesing city:  bundi\n",
      "99 Procesing city:  port elizabeth\n",
      "100 Procesing city:  cape town\n",
      "101 Procesing city:  sault sainte marie\n",
      "102 Procesing city:  kikwit\n",
      "103 Procesing city:  yorkton\n",
      "104 Procesing city:  havre\n",
      "105 Procesing city:  tuktoyaktuk\n",
      "106 City not found: tsihombe\n",
      "107 Procesing city:  ushuaia\n",
      "108 Procesing city:  sorland\n",
      "109 Procesing city:  linqiong\n",
      "110 Procesing city:  poronaysk\n",
      "111 Procesing city:  ostrovnoy\n",
      "112 Procesing city:  chuy\n",
      "113 Procesing city:  yellowknife\n",
      "114 City not found: satitoa\n",
      "115 Procesing city:  maniitsoq\n",
      "116 Procesing city:  lagoa\n",
      "117 Procesing city:  dikson\n",
      "118 City not found: marcona\n",
      "119 Procesing city:  kulhudhuffushi\n",
      "120 Procesing city:  san quintin\n",
      "121 Procesing city:  atar\n",
      "122 Procesing city:  gat\n",
      "123 Procesing city:  melivoia\n",
      "124 Procesing city:  myanaung\n",
      "125 City not found: higuey\n",
      "126 Procesing city:  luwuk\n",
      "127 Procesing city:  kruisfontein\n",
      "128 Procesing city:  puerto escondido\n",
      "129 Procesing city:  nome\n",
      "130 Procesing city:  kenai\n",
      "131 City not found: blonduos\n",
      "132 Procesing city:  north bend\n",
      "133 Procesing city:  kupang\n",
      "134 Procesing city:  hithadhoo\n",
      "135 Procesing city:  alofi\n",
      "136 Procesing city:  barrow\n",
      "137 Procesing city:  asau\n",
      "138 Procesing city:  berlevag\n",
      "139 Procesing city:  grindavik\n",
      "140 Procesing city:  zhigansk\n",
      "141 Procesing city:  avarua\n",
      "142 Procesing city:  katobu\n",
      "143 Procesing city:  mendi\n",
      "144 Procesing city:  paraiso\n",
      "145 Procesing city:  faanui\n",
      "146 Procesing city:  eureka\n",
      "147 Procesing city:  santa cruz de la palma\n",
      "148 Procesing city:  luanda\n",
      "149 Procesing city:  nikolskoye\n",
      "150 Procesing city:  tiksi\n",
      "151 Procesing city:  sao raimundo das mangabeiras\n",
      "152 Procesing city:  dong hoi\n",
      "153 Procesing city:  mackay\n",
      "154 Procesing city:  souillac\n",
      "155 Procesing city:  tasiilaq\n",
      "156 Procesing city:  copiapo\n",
      "157 Procesing city:  santa isabel do rio negro\n",
      "158 Procesing city:  aleksandrovsk-sakhalinskiy\n",
      "159 Procesing city:  kati\n",
      "160 Procesing city:  sibolga\n",
      "161 Procesing city:  hambantota\n",
      "162 Procesing city:  ribeira grande\n",
      "163 Procesing city:  borogontsy\n",
      "164 City not found: sinkat\n",
      "165 Procesing city:  olafsvik\n",
      "166 Procesing city:  labuhan\n",
      "167 City not found: attawapiskat\n",
      "168 Procesing city:  kondagaon\n"
     ]
    }
   ],
   "source": [
    "set = 1\n",
    "i = 0\n",
    "data_frame = pd.DataFrame(columns=['name', 'coord.lat', 'coord.lon', 'main.temp_max', 'main.humidity', \n",
    "                 'clouds.all', 'wind.speed','sys.country', 'dt'])\n",
    "\n",
    "for x in cities:\n",
    "    #print(x)\n",
    "    i += 1\n",
    "    city = x\n",
    "    url = f\"http://api.openweathermap.org/data/2.5/weather?q={city}&appid={weather_api_key}\" \n",
    "    #print(url)\n",
    "    \n",
    "    if(i % 50 == 0): # for each set of 50 cities\n",
    "        time.sleep(60) # waits 1 minutes\n",
    "        set += 1 # increases set number\n",
    "\n",
    "    weather_response = requests.get(url)\n",
    "    \n",
    "    if(weather_response.status_code == 200):\n",
    "        data_json2 = weather_response.json()\n",
    "\n",
    "        json_df = pd.json_normalize(data_json2)\n",
    "        #print(\"JSON DF:\", json_df)\n",
    "        df = json_df[['name', 'coord.lat', 'coord.lon', 'main.temp_max', 'main.humidity', \n",
    "                     'clouds.all', 'wind.speed','sys.country', 'dt']]\n",
    "\n",
    "        #print(\"DF:\", df)\n",
    "        data_frame = data_frame.append(df, ignore_index = True)\n",
    "        print(i, \"Procesing city: \", city)\n",
    "    else:\n",
    "        print(i, \"City not found:\", city)\n",
    "    \n",
    "\n",
    " \n",
    "         \n",
    "    #print(data_json)"
   ]
  },
  {
   "cell_type": "code",
   "execution_count": null,
   "metadata": {
    "scrolled": true
   },
   "outputs": [],
   "source": [
    "data_frame"
   ]
  },
  {
   "cell_type": "markdown",
   "metadata": {},
   "source": [
    "### Convert Raw Data to DataFrame\n",
    "* Export the city data into a .csv.city\n",
    "* Display the DataFrame"
   ]
  },
  {
   "cell_type": "code",
   "execution_count": null,
   "metadata": {},
   "outputs": [],
   "source": [
    "data_frame.rename(columns={'name':'City', 'coord.lat':'Lat', 'coord.lon':'Lng', 'main.temp_max':'Max Temp', \n",
    "                            'main.humidity':'Humidity', 'clouds.all':'Cloudiness', 'wind.speed': 'Wind Speed',\n",
    "                            'sys.country':'Country', 'dt':'Date'})      \n",
    "\n",
    "data_frame.to_csv(path_or_buf='../output_data/cities.csv', index=False)\n",
    "\n",
    "data_frame"
   ]
  },
  {
   "cell_type": "code",
   "execution_count": null,
   "metadata": {},
   "outputs": [],
   "source": [
    "data_frame.describe()"
   ]
  },
  {
   "cell_type": "markdown",
   "metadata": {},
   "source": [
    "## Inspect the data and remove the cities where the humidity > 100%.\n",
    "----\n",
    "Skip this step if there are no cities that have humidity > 100%. "
   ]
  },
  {
   "cell_type": "code",
   "execution_count": null,
   "metadata": {},
   "outputs": [],
   "source": [
    "clean_city_data = data_frame[~(data_frame['Humidity']>100)]"
   ]
  },
  {
   "cell_type": "code",
   "execution_count": null,
   "metadata": {},
   "outputs": [],
   "source": [
    "#  Get the indices of cities that have humidity over 100%.\n"
   ]
  },
  {
   "cell_type": "code",
   "execution_count": null,
   "metadata": {},
   "outputs": [],
   "source": [
    "# Make a new DataFrame equal to the city data to drop all humidity outliers by index.\n",
    "# Passing \"inplace=False\" will make a copy of the city_data DataFrame, which we call \"clean_city_data\".\n",
    "clean_city_data"
   ]
  },
  {
   "cell_type": "code",
   "execution_count": null,
   "metadata": {},
   "outputs": [],
   "source": [
    "\n"
   ]
  },
  {
   "cell_type": "markdown",
   "metadata": {},
   "source": [
    "## Plotting the Data\n",
    "* Use proper labeling of the plots using plot titles (including date of analysis) and axes labels.\n",
    "* Save the plotted figures as .pngs."
   ]
  },
  {
   "cell_type": "markdown",
   "metadata": {},
   "source": [
    "## Latitude vs. Temperature Plot"
   ]
  },
  {
   "cell_type": "code",
   "execution_count": null,
   "metadata": {
    "scrolled": true
   },
   "outputs": [],
   "source": [
    "date_str = date.today().strftime(\"%d/%m/%Y\")\n",
    "clean_city_data.plot.scatter(x='Lat', y='Max Temp', xlabel = 'Latitude', ylabel = 'Max Temperature (F)',\n",
    "                             title = \"City Latitude vs Max Temperature (\" + date_str + \")\", grid=True)\n",
    "\n",
    "plt.savefig(\"../output_data/Fig1.png\")\n",
    "plt.show()"
   ]
  },
  {
   "cell_type": "markdown",
   "metadata": {},
   "source": [
    "## Latitude vs. Humidity Plot"
   ]
  },
  {
   "cell_type": "code",
   "execution_count": null,
   "metadata": {},
   "outputs": [],
   "source": [
    "date_str = date.today().strftime(\"%d/%m/%Y\")\n",
    "clean_city_data.plot.scatter(x='Lat', y='Max Temp', xlabel = 'Latitude', ylabel = 'Max Temperature (F)',\n",
    "                             title = \"City Latitude vs Max Temperature (\" + date_str + \")\", grid=True)\n",
    "\n",
    "plt.savefig(\"../output_data/Fig1.png\")\n",
    "plt.show()"
   ]
  },
  {
   "cell_type": "markdown",
   "metadata": {},
   "source": [
    "## Latitude vs. Cloudiness Plot"
   ]
  },
  {
   "cell_type": "code",
   "execution_count": null,
   "metadata": {},
   "outputs": [],
   "source": [
    "clean_city_data.plot.scatter(x='Lat', y='Cloudiness', xlabel = 'Latitude', ylabel = 'Cloudiness (%)',\n",
    "                             title = \"City Latitude vs Cloudiness (\" + date_str + \")\", grid=True)\n",
    "\n",
    "plt.savefig(\"../output_data/Fig3.png\")\n",
    "plt.show()"
   ]
  },
  {
   "cell_type": "markdown",
   "metadata": {},
   "source": [
    "## Latitude vs. Wind Speed Plot"
   ]
  },
  {
   "cell_type": "code",
   "execution_count": null,
   "metadata": {},
   "outputs": [],
   "source": [
    "clean_city_data.plot.scatter(x='Lat', y='Wind Speed', xlabel = 'Latitude', ylabel = 'Wind Speed (mph)',\n",
    "                             title = \"City Latitude vs Wind Speed (\" + date_str + \")\", grid=True)\n",
    "\n",
    "plt.savefig(\"../output_data/Fig4.png\")\n",
    "plt.show()"
   ]
  },
  {
   "cell_type": "markdown",
   "metadata": {},
   "source": [
    "## Linear Regression"
   ]
  },
  {
   "cell_type": "code",
   "execution_count": null,
   "metadata": {},
   "outputs": [],
   "source": [
    "north_hem = clean_city_data[(clean_city_data['Lat']>=0)]\n",
    "south_hem = clean_city_data[(clean_city_data['Lat']<0)]"
   ]
  },
  {
   "cell_type": "markdown",
   "metadata": {},
   "source": [
    "####  Northern Hemisphere - Max Temp vs. Latitude Linear Regression"
   ]
  },
  {
   "cell_type": "code",
   "execution_count": null,
   "metadata": {},
   "outputs": [],
   "source": [
    "slope, intercept, r_value, p_value, std_err = st.linregress(north_hem['Lat'], north_hem['Max Temp'])\n",
    "print(\"The r-value is:\", r_value)\n",
    "# print(\"Slope:\", slope, \"Intercept: \", intercept)\n",
    "\n",
    "north_hem.plot.scatter(x='Lat', y='Max Temp', xlabel = 'Latitude', ylabel = 'Max Temp', \n",
    "                       title = \"Northern Hemisphere - Max Temp vs. Latitude Linear Regression\", \n",
    "                       grid=False)\n",
    "\n",
    "x = np.array(north_hem['Lat'])\n",
    "y = np.array(north_hem['Max Temp'])\n",
    "\n",
    "# slope, intercept = np.polyfit(x, y, 1)\n",
    "# print(\"Slope:\", slope, \"Intercept: \", intercept)\n",
    "\n",
    "formula = ( \"y = \" + \"{}\".format(round(slope, 2)) + \" * x + \" + \"{}\".format(round(intercept, 2)) )\n",
    "plt.text(10, 230, formula, fontsize=12, color=\"red\")\n",
    "\n",
    "plt.plot(x, slope * x + intercept, color=\"red\", linewidth=2, linestyle='-')\n",
    "plt.show()"
   ]
  },
  {
   "cell_type": "markdown",
   "metadata": {},
   "source": [
    "####  Southern Hemisphere - Max Temp vs. Latitude Linear Regression"
   ]
  },
  {
   "cell_type": "code",
   "execution_count": null,
   "metadata": {},
   "outputs": [],
   "source": [
    "slope, intercept, r_value, p_value, std_err = st.linregress(south_hem['Lat'], south_hem['Max Temp'])\n",
    "print(\"The r-value is:\", r_value)\n",
    "\n",
    "south_hem.plot.scatter(x='Lat', y='Max Temp', xlabel = 'Latitude', ylabel = 'Max Temp', \n",
    "                       title = \"Southern Hemisphere - Max Temp vs. Latitude Linear Regression\", \n",
    "                       grid=False)\n",
    "\n",
    "x = np.array(south_hem['Lat'])\n",
    "y = np.array(south_hem['Max Temp'])\n",
    "\n",
    "formula = ( \"y = \" + \"{}\".format(round(slope, 2)) + \" * x + \" + \"{}\".format(round(intercept, 2)) )\n",
    "plt.text(-45, 280, formula, fontsize=12, color=\"red\")\n",
    "\n",
    "plt.plot(x, slope * x + intercept, color=\"red\", linewidth=2, linestysele='-')\n",
    "plt.show()"
   ]
  },
  {
   "cell_type": "markdown",
   "metadata": {},
   "source": [
    "####  Northern Hemisphere - Humidity (%) vs. Latitude Linear Regression"
   ]
  },
  {
   "cell_type": "code",
   "execution_count": null,
   "metadata": {},
   "outputs": [],
   "source": [
    "slope, intercept, r_value, p_value, std_err = st.linregress(north_hem['Lat'], north_hem['Humidity'])\n",
    "print(\"The r-value is:\", r_value)\n",
    "\n",
    "north_hem.plot.scatter(x='Lat', y='Humidity', xlabel = 'Latitude', ylabel = 'Humidity', \n",
    "                       title = \"Northern Hemisphere - Humidity (%) vs. Latitude Linear Regression\", \n",
    "                       grid=False)\n",
    "\n",
    "x = np.array(north_hem['Lat'])\n",
    "y = np.array(north_hem['Humidity'])\n",
    "\n",
    "formula = ( \"y = \" + \"{}\".format(round(slope, 2)) + \" * x + \" + \"{}\".format(round(intercept, 2)) )\n",
    "plt.text(40, 10, formula, fontsize=12, color=\"red\")\n",
    "\n",
    "plt.plot(x, slope * x + intercept, color=\"red\", linewidth=2, linestyle='-')\n",
    "plt.show()"
   ]
  },
  {
   "cell_type": "markdown",
   "metadata": {},
   "source": [
    "####  Southern Hemisphere - Humidity (%) vs. Latitude Linear Regression"
   ]
  },
  {
   "cell_type": "code",
   "execution_count": null,
   "metadata": {},
   "outputs": [],
   "source": [
    "slope, intercept, r_value, p_value, std_err = st.linregress(south_hem['Lat'], south_hem['Humidity'])\n",
    "print(\"The r-value is:\", r_value)\n",
    "\n",
    "south_hem.plot.scatter(x='Lat', y='Humidity', xlabel = 'Latitude', ylabel = 'Humidity', \n",
    "                       title = \"Southern Hemisphere - Humidity (%) vs. Latitude Linear Regression\", \n",
    "                       grid=False)\n",
    "\n",
    "x = np.array(south_hem['Lat'])\n",
    "y = np.array(south_hem['Humidity'])\n",
    "\n",
    "formula = ( \"y = \" + \"{}\".format(round(slope, 2)) + \" * x + \" + \"{}\".format(round(intercept, 2)) )\n",
    "plt.text(-45, 17, formula, fontsize=12, color=\"red\")\n",
    "\n",
    "plt.plot(x, slope * x + intercept, color=\"red\", linewidth=2, linestyle='-')\n",
    "plt.show()"
   ]
  },
  {
   "cell_type": "markdown",
   "metadata": {},
   "source": [
    "####  Northern Hemisphere - Cloudiness (%) vs. Latitude Linear Regression"
   ]
  },
  {
   "cell_type": "code",
   "execution_count": null,
   "metadata": {},
   "outputs": [],
   "source": [
    "slope, intercept, r_value, p_value, std_err = st.linregress(north_hem['Lat'], north_hem['Cloudiness'])\n",
    "print(\"The r-value is:\", r_value)\n",
    "\n",
    "north_hem.plot.scatter(x='Lat', y='Cloudiness', xlabel = 'Latitude', ylabel = 'Cloudiness', \n",
    "                       title = \"Northern Hemisphere - Cloudiness (%) vs. Latitude Linear Regression\", \n",
    "                       grid=False)\n",
    "\n",
    "x = np.array(north_hem['Lat'])\n",
    "y = np.array(north_hem['Cloudiness'])\n",
    "\n",
    "formula = ( \"y = \" + \"{}\".format(round(slope, 2)) + \" * x + \" + \"{}\".format(round(intercept, 2)) )\n",
    "plt.text(0, 10, formula, fontsize=12, color=\"red\")\n",
    "\n",
    "plt.plot(x, slope * x + intercept, color=\"red\", linewidth=2, linestyle='-')\n",
    "plt.show()"
   ]
  },
  {
   "cell_type": "markdown",
   "metadata": {},
   "source": [
    "####  Southern Hemisphere - Cloudiness (%) vs. Latitude Linear Regression"
   ]
  },
  {
   "cell_type": "code",
   "execution_count": null,
   "metadata": {},
   "outputs": [],
   "source": [
    "slope, intercept, r_value, p_value, std_err = st.linregress(south_hem['Lat'], south_hem['Cloudiness'])\n",
    "print(\"The r-value is:\", r_value)\n",
    "\n",
    "south_hem.plot.scatter(x='Lat', y='Cloudiness', xlabel = 'Latitude', ylabel = 'Cloudiness', \n",
    "                       title = \"Southern Hemisphere - Cloudiness (%) vs. Latitude Linear Regression\", \n",
    "                       grid=False)\n",
    "\n",
    "x = np.array(south_hem['Lat'])\n",
    "y = np.array(south_hem['Cloudiness'])\n",
    "\n",
    "formula = ( \"y = \" + \"{}\".format(round(slope, 2)) + \" * x + \" + \"{}\".format(round(intercept, 2)) )\n",
    "plt.text(-50, 15, formula, fontsize=12, color=\"red\")\n",
    "\n",
    "plt.plot(x, slope * x + intercept, color=\"red\", linewidth=2, linestyle='-')\n",
    "plt.show()"
   ]
  },
  {
   "cell_type": "markdown",
   "metadata": {},
   "source": [
    "####  Northern Hemisphere - Wind Speed (mph) vs. Latitude Linear Regression"
   ]
  },
  {
   "cell_type": "code",
   "execution_count": null,
   "metadata": {},
   "outputs": [],
   "source": [
    "slope, intercept, r_value, p_value, std_err = st.linregress(north_hem['Lat'], north_hem['Wind Speed'])\n",
    "print(\"The r-value is:\", r_value)\n",
    "\n",
    "north_hem.plot.scatter(x='Lat', y='Wind Speed', xlabel = 'Latitude', ylabel = 'Wind Speed', \n",
    "                       title = \"Northern Hemisphere - Wind Speed (mph) vs. Latitude Linear Regression\", \n",
    "                       grid=False)\n",
    "\n",
    "x = np.array(north_hem['Lat'])\n",
    "y = np.array(north_hem['Wind Speed'])\n",
    "\n",
    "formula = ( \"y = \" + \"{}\".format(round(slope, 2)) + \" * x + \" + \"{}\".format(round(intercept, 2)) )\n",
    "plt.text(0, 14, formula, fontsize=12, color=\"red\")\n",
    "\n",
    "plt.plot(x, slope * x + intercept, color=\"red\", linewidth=2, linestyle='-')\n",
    "plt.show()"
   ]
  },
  {
   "cell_type": "markdown",
   "metadata": {},
   "source": [
    "####  Southern Hemisphere - Wind Speed (mph) vs. Latitude Linear Regression"
   ]
  },
  {
   "cell_type": "code",
   "execution_count": null,
   "metadata": {},
   "outputs": [],
   "source": [
    "slope, intercept, r_value, p_value, std_err = st.linregress(south_hem['Lat'], south_hem['Wind Speed'])\n",
    "print(\"The r-value is:\", r_value)\n",
    "\n",
    "south_hem.plot.scatter(x='Lat', y='Wind Speed', xlabel = 'Latitude', ylabel = 'Wind Speed', \n",
    "                       title = \"Southern Hemisphere - Wind Speed (mph) vs. Latitude Linear Regression\", \n",
    "                       grid=False)\n",
    "\n",
    "x = np.array(south_hem['Lat'])\n",
    "y = np.array(south_hem['Wind Speed'])\n",
    "\n",
    "formula = ( \"y = \" + \"{}\".format(round(slope, 2)) + \" * x + \" + \"{}\".format(round(intercept, 2)) )\n",
    "plt.text(-55, 0, formula, fontsize=12, color=\"red\")\n",
    "\n",
    "plt.plot(x, slope * x + intercept, color=\"red\", linewidth=2, linestyle='-')\n",
    "plt.show()"
   ]
  },
  {
   "cell_type": "code",
   "execution_count": null,
   "metadata": {},
   "outputs": [],
   "source": []
  }
 ],
 "metadata": {
  "anaconda-cloud": {},
  "kernel_info": {
   "name": "python3"
  },
  "kernelspec": {
   "display_name": "Python 3",
   "language": "python",
   "name": "python3"
  },
  "language_info": {
   "codemirror_mode": {
    "name": "ipython",
    "version": 3
   },
   "file_extension": ".py",
   "mimetype": "text/x-python",
   "name": "python",
   "nbconvert_exporter": "python",
   "pygments_lexer": "ipython3",
   "version": "3.8.8"
  },
  "latex_envs": {
   "LaTeX_envs_menu_present": true,
   "autoclose": false,
   "autocomplete": true,
   "bibliofile": "biblio.bib",
   "cite_by": "apalike",
   "current_citInitial": 1,
   "eqLabelWithNumbers": true,
   "eqNumInitial": 1,
   "hotkeys": {
    "equation": "Ctrl-E",
    "itemize": "Ctrl-I"
   },
   "labels_anchors": false,
   "latex_user_defs": false,
   "report_style_numbering": false,
   "user_envs_cfg": false
  },
  "nteract": {
   "version": "0.12.3"
  }
 },
 "nbformat": 4,
 "nbformat_minor": 4
}
