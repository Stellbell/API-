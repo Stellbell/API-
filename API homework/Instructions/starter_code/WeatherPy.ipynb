{
 "cells": [
  {
   "cell_type": "markdown",
   "metadata": {},
   "source": [
    "# WeatherPy\n",
    "----\n",
    "\n",
    "#### Note\n",
    "* Instructions have been included for each segment. You do not have to follow them exactly, but they are included to help you think through the steps."
   ]
  },
  {
   "cell_type": "code",
   "execution_count": 1,
   "metadata": {
    "scrolled": true
   },
   "outputs": [],
   "source": [
    "# Dependencies and Setup\n",
    "import array\n",
    "import matplotlib.pyplot as plt\n",
    "import pandas as pd\n",
    "import numpy as np\n",
    "import requests\n",
    "import time\n",
    "from scipy.stats import linregress\n",
    "import json\n",
    "# Import API key\n",
    "from api_keyS import weather_api_key  \n",
    "\n",
    "# Incorporated citipy to determine city based on latitude and longitude\n",
    "from citipy import citipy\n",
    "\n",
    "# Output File (CSV)\n",
    "output_data_file = \"output_data/cities.csv\"\n",
    "\n",
    "# Range of latitudes and longitudes\n",
    "lat_range = (-90, 90)\n",
    "lng_range = (-180, 180)"
   ]
  },
  {
   "cell_type": "code",
   "execution_count": 2,
   "metadata": {},
   "outputs": [
    {
     "data": {
      "text/plain": [
       "'a66d6e9094774bfc52e92ab2184187bb'"
      ]
     },
     "execution_count": 2,
     "metadata": {},
     "output_type": "execute_result"
    }
   ],
   "source": [
    "weather_api_key  "
   ]
  },
  {
   "cell_type": "markdown",
   "metadata": {},
   "source": [
    "## Generate Cities List"
   ]
  },
  {
   "cell_type": "code",
   "execution_count": 3,
   "metadata": {
    "tags": []
   },
   "outputs": [
    {
     "data": {
      "text/plain": [
       "616"
      ]
     },
     "execution_count": 3,
     "metadata": {},
     "output_type": "execute_result"
    }
   ],
   "source": [
    "# List for holding lat_lngs and cities\n",
    "lat_lngs = []\n",
    "cities = []\n",
    "\n",
    "# Create a set of random lat and lng combinations\n",
    "lats = np.random.uniform(lat_range[0], lat_range[1], size=1500)\n",
    "lngs = np.random.uniform(lng_range[0], lng_range[1], size=1500)\n",
    "lat_lngs = zip(lats, lngs)\n",
    "\n",
    "# Identify nearest city for each lat, lng combination\n",
    "for lat_lng in lat_lngs:\n",
    "    city = citipy.nearest_city(lat_lng[0], lat_lng[1]).city_name\n",
    "    \n",
    "    # If the city is unique, then add it to a our cities list\n",
    "    if city not in cities:\n",
    "        cities.append(city)\n",
    "\n",
    "# Print the city count to confirm sufficient count\n",
    "len(cities)"
   ]
  },
  {
   "cell_type": "markdown",
   "metadata": {},
   "source": [
    "### Perform API Calls\n",
    "* Perform a weather check on each city using a series of successive API calls.\n",
    "* Include a print log of each city as it'sbeing processed (with the city number and city name).\n",
    "\n",
    "> **HINT:** The OpenWeatherMap API only allows 60 calls per minute under their free plan. Try using `time.sleep(60)` after each set of 50 cities to avoid API errors due to large calls."
   ]
  },
  {
   "cell_type": "code",
   "execution_count": 4,
   "metadata": {},
   "outputs": [
    {
     "data": {
      "text/plain": [
       "['bethel',\n",
       " 'butaritari',\n",
       " 'avarua',\n",
       " 'pilar',\n",
       " 'gulbene',\n",
       " 'paranaiba',\n",
       " 'tete',\n",
       " 'port blair',\n",
       " 'rawson',\n",
       " 'new norfolk']"
      ]
     },
     "execution_count": 4,
     "metadata": {},
     "output_type": "execute_result"
    }
   ],
   "source": [
    "ten_cities=cities[0:10]\n",
    "ten_cities"
   ]
  },
  {
   "cell_type": "code",
   "execution_count": 5,
   "metadata": {
    "jupyter": {
     "source_hidden": true
    },
    "tags": []
   },
   "outputs": [
    {
     "name": "stdout",
     "output_type": "stream",
     "text": [
      "bethel\n",
      "http://api.openweathermap.org/data/2.5/weather?q=bethel&appid=a66d6e9094774bfc52e92ab2184187bb\n",
      "{'coord': {'lon': -73.414, 'lat': 41.3712}, 'weather': [{'id': 601, 'main': 'Snow', 'description': 'snow', 'icon': '13n'}], 'base': 'stations', 'main': {'temp': 273.02, 'feels_like': 273.02, 'temp_min': 270.14, 'temp_max': 276.55, 'pressure': 1003, 'humidity': 91}, 'visibility': 2595, 'wind': {'speed': 1.1, 'deg': 91, 'gust': 3.62}, 'snow': {'1h': 1}, 'clouds': {'all': 100}, 'dt': 1640433339, 'sys': {'type': 2, 'id': 2008903, 'country': 'US', 'sunrise': 1640434689, 'sunset': 1640467766}, 'timezone': -18000, 'id': 5282297, 'name': 'Bethel', 'cod': 200}\n",
      "butaritari\n",
      "http://api.openweathermap.org/data/2.5/weather?q=butaritari&appid=a66d6e9094774bfc52e92ab2184187bb\n",
      "{'coord': {'lon': 172.7902, 'lat': 3.0707}, 'weather': [{'id': 500, 'main': 'Rain', 'description': 'light rain', 'icon': '10n'}], 'base': 'stations', 'main': {'temp': 300.69, 'feels_like': 303.88, 'temp_min': 300.69, 'temp_max': 300.69, 'pressure': 1010, 'humidity': 78, 'sea_level': 1010, 'grnd_level': 1009}, 'visibility': 10000, 'wind': {'speed': 5.3, 'deg': 98, 'gust': 5.93}, 'rain': {'1h': 0.21}, 'clouds': {'all': 100}, 'dt': 1640433340, 'sys': {'country': 'KI', 'sunrise': 1640370620, 'sunset': 1640413617}, 'timezone': 43200, 'id': 2110227, 'name': 'Butaritari', 'cod': 200}\n",
      "avarua\n",
      "http://api.openweathermap.org/data/2.5/weather?q=avarua&appid=a66d6e9094774bfc52e92ab2184187bb\n",
      "{'coord': {'lon': -159.775, 'lat': -21.2078}, 'weather': [{'id': 803, 'main': 'Clouds', 'description': 'broken clouds', 'icon': '04n'}], 'base': 'stations', 'main': {'temp': 299.18, 'feels_like': 299.18, 'temp_min': 299.18, 'temp_max': 299.18, 'pressure': 1017, 'humidity': 94}, 'visibility': 10000, 'wind': {'speed': 2.57, 'deg': 80}, 'clouds': {'all': 75}, 'dt': 1640433242, 'sys': {'type': 1, 'id': 7271, 'country': 'CK', 'sunrise': 1640447807, 'sunset': 1640496115}, 'timezone': -36000, 'id': 4035715, 'name': 'Avarua', 'cod': 200}\n",
      "pilar\n",
      "http://api.openweathermap.org/data/2.5/weather?q=pilar&appid=a66d6e9094774bfc52e92ab2184187bb\n",
      "{'coord': {'lon': -35.9567, 'lat': -9.5972}, 'weather': [{'id': 804, 'main': 'Clouds', 'description': 'overcast clouds', 'icon': '04d'}], 'base': 'stations', 'main': {'temp': 302.11, 'feels_like': 302.64, 'temp_min': 302.11, 'temp_max': 302.11, 'pressure': 1009, 'humidity': 49, 'sea_level': 1009, 'grnd_level': 995}, 'visibility': 10000, 'wind': {'speed': 5.25, 'deg': 32, 'gust': 6.94}, 'clouds': {'all': 87}, 'dt': 1640433340, 'sys': {'type': 1, 'id': 8413, 'country': 'BR', 'sunrise': 1640419407, 'sunset': 1640465062}, 'timezone': -10800, 'id': 3392126, 'name': 'Pilar', 'cod': 200}\n",
      "gulbene\n",
      "http://api.openweathermap.org/data/2.5/weather?q=gulbene&appid=a66d6e9094774bfc52e92ab2184187bb\n",
      "{'coord': {'lon': 26.7529, 'lat': 57.1777}, 'weather': [{'id': 802, 'main': 'Clouds', 'description': 'scattered clouds', 'icon': '03d'}], 'base': 'stations', 'main': {'temp': 266.57, 'feels_like': 261.49, 'temp_min': 266.57, 'temp_max': 266.57, 'pressure': 997, 'humidity': 77, 'sea_level': 997, 'grnd_level': 981}, 'visibility': 10000, 'wind': {'speed': 3.24, 'deg': 246, 'gust': 9.66}, 'clouds': {'all': 47}, 'dt': 1640433341, 'sys': {'country': 'LV', 'sunrise': 1640415157, 'sunset': 1640439201}, 'timezone': 7200, 'id': 459668, 'name': 'Gulbene', 'cod': 200}\n",
      "paranaiba\n",
      "http://api.openweathermap.org/data/2.5/weather?q=paranaiba&appid=a66d6e9094774bfc52e92ab2184187bb\n",
      "{'coord': {'lon': -51.1908, 'lat': -19.6772}, 'weather': [{'id': 800, 'main': 'Clear', 'description': 'clear sky', 'icon': '01d'}], 'base': 'stations', 'main': {'temp': 296.97, 'feels_like': 297, 'temp_min': 296.97, 'temp_max': 296.97, 'pressure': 1011, 'humidity': 61, 'sea_level': 1011, 'grnd_level': 969}, 'visibility': 10000, 'wind': {'speed': 2.58, 'deg': 116, 'gust': 3.7}, 'clouds': {'all': 0}, 'dt': 1640433341, 'sys': {'country': 'BR', 'sunrise': 1640421923, 'sunset': 1640469861}, 'timezone': -14400, 'id': 3455065, 'name': 'Paranaíba', 'cod': 200}\n",
      "tete\n",
      "http://api.openweathermap.org/data/2.5/weather?q=tete&appid=a66d6e9094774bfc52e92ab2184187bb\n",
      "{'coord': {'lon': 33.5867, 'lat': -16.1564}, 'weather': [{'id': 802, 'main': 'Clouds', 'description': 'scattered clouds', 'icon': '03d'}], 'base': 'stations', 'main': {'temp': 308.2, 'feels_like': 312.44, 'temp_min': 308.2, 'temp_max': 308.2, 'pressure': 1011, 'humidity': 46}, 'visibility': 10000, 'wind': {'speed': 4.12, 'deg': 90}, 'clouds': {'all': 40}, 'dt': 1640433341, 'sys': {'type': 1, 'id': 2212, 'country': 'MZ', 'sunrise': 1640401983, 'sunset': 1640449094}, 'timezone': 7200, 'id': 1026014, 'name': 'Tete', 'cod': 200}\n",
      "port blair\n",
      "http://api.openweathermap.org/data/2.5/weather?q=port blair&appid=a66d6e9094774bfc52e92ab2184187bb\n",
      "{'coord': {'lon': 92.75, 'lat': 11.6667}, 'weather': [{'id': 801, 'main': 'Clouds', 'description': 'few clouds', 'icon': '02n'}], 'base': 'stations', 'main': {'temp': 298.86, 'feels_like': 299.42, 'temp_min': 298.86, 'temp_max': 298.86, 'pressure': 1012, 'humidity': 74, 'sea_level': 1012, 'grnd_level': 1012}, 'visibility': 10000, 'wind': {'speed': 5.13, 'deg': 38, 'gust': 6.07}, 'clouds': {'all': 19}, 'dt': 1640433242, 'sys': {'country': 'IN', 'sunrise': 1640390742, 'sunset': 1640431927}, 'timezone': 19800, 'id': 1259385, 'name': 'Port Blair', 'cod': 200}\n",
      "rawson\n",
      "http://api.openweathermap.org/data/2.5/weather?q=rawson&appid=a66d6e9094774bfc52e92ab2184187bb\n",
      "{'coord': {'lon': -65.1023, 'lat': -43.3002}, 'weather': [{'id': 800, 'main': 'Clear', 'description': 'clear sky', 'icon': '01d'}], 'base': 'stations', 'main': {'temp': 296.41, 'feels_like': 295.73, 'temp_min': 296.41, 'temp_max': 296.41, 'pressure': 1011, 'humidity': 36, 'sea_level': 1011, 'grnd_level': 1010}, 'visibility': 10000, 'wind': {'speed': 9.29, 'deg': 250, 'gust': 12.1}, 'clouds': {'all': 0}, 'dt': 1640433342, 'sys': {'country': 'AR', 'sunrise': 1640421532, 'sunset': 1640476932}, 'timezone': -10800, 'id': 3839307, 'name': 'Rawson', 'cod': 200}\n",
      "new norfolk\n",
      "http://api.openweathermap.org/data/2.5/weather?q=new norfolk&appid=a66d6e9094774bfc52e92ab2184187bb\n",
      "{'coord': {'lon': 147.0587, 'lat': -42.7826}, 'weather': [{'id': 800, 'main': 'Clear', 'description': 'clear sky', 'icon': '01n'}], 'base': 'stations', 'main': {'temp': 285.57, 'feels_like': 284.41, 'temp_min': 284.68, 'temp_max': 287.87, 'pressure': 1012, 'humidity': 59}, 'visibility': 10000, 'wind': {'speed': 1.34, 'deg': 111, 'gust': 4.02}, 'clouds': {'all': 4}, 'dt': 1640433254, 'sys': {'type': 2, 'id': 2031307, 'country': 'AU', 'sunrise': 1640370705, 'sunset': 1640425887}, 'timezone': 39600, 'id': 2155415, 'name': 'New Norfolk', 'cod': 200}\n"
     ]
    }
   ],
   "source": [
    "for x in ten_cities:\n",
    "    print(x)\n",
    "    city = x\n",
    "    url = f\"http://api.openweathermap.org/data/2.5/weather?q={city}&appid={weather_api_key}\" \n",
    "    print(url)\n",
    "\n",
    "    weather_response= requests.get(url)\n",
    "    data_json= weather_response.json()\n",
    "    print(data_json)"
   ]
  },
  {
   "cell_type": "code",
   "execution_count": 6,
   "metadata": {},
   "outputs": [
    {
     "name": "stdout",
     "output_type": "stream",
     "text": [
      "http://api.openweathermap.org/data/2.5/weather?q=Geelong&appid=a66d6e9094774bfc52e92ab2184187bb\n",
      "{'coord': {'lon': 144.3607, 'lat': -38.1471}, 'weather': [{'id': 804, 'main': 'Clouds', 'description': 'overcast clouds', 'icon': '04n'}], 'base': 'stations', 'main': {'temp': 287.81, 'feels_like': 287.08, 'temp_min': 287.21, 'temp_max': 289.72, 'pressure': 1016, 'humidity': 67}, 'visibility': 10000, 'wind': {'speed': 5.36, 'deg': 112, 'gust': 5.36}, 'clouds': {'all': 90}, 'dt': 1640433320, 'sys': {'type': 2, 'id': 2009070, 'country': 'AU', 'sunrise': 1640372280, 'sunset': 1640425608}, 'timezone': 39600, 'id': 2165798, 'name': 'Geelong', 'cod': 200}\n"
     ]
    }
   ],
   "source": [
    "city = \"Geelong\"\n",
    "url = f\"http://api.openweathermap.org/data/2.5/weather?q={city}&appid={weather_api_key}\" \n",
    "print(url)\n",
    "#data = url + \"appid=\" + \"&q=\"\n",
    "#data\n",
    "weather_response= requests.get(url)\n",
    "data_json= weather_response.json()\n",
    "print(data_json)"
   ]
  },
  {
   "cell_type": "code",
   "execution_count": 7,
   "metadata": {},
   "outputs": [
    {
     "data": {
      "text/plain": [
       "dict_keys(['coord', 'weather', 'base', 'main', 'visibility', 'wind', 'clouds', 'dt', 'sys', 'timezone', 'id', 'name', 'cod'])"
      ]
     },
     "execution_count": 7,
     "metadata": {},
     "output_type": "execute_result"
    }
   ],
   "source": [
    "data_json.keys()\n"
   ]
  },
  {
   "cell_type": "code",
   "execution_count": 42,
   "metadata": {},
   "outputs": [],
   "source": [
    "#set = 1\n",
    "data_frame = pd.DataFrame(columns=['name', 'coord.lat', 'coord.lon', 'main.temp_max', 'main.humidity', \n",
    "                 'clouds.all', 'wind.speed','sys.country', 'dt'])\n",
    "\n",
    "for x in ten_cities: # replace with all cities\n",
    "    #print(x)\n",
    "    city = x\n",
    "    url = f\"http://api.openweathermap.org/data/2.5/weather?q={city}&appid={weather_api_key}\" \n",
    "    #print(url)\n",
    "\n",
    "    weather_response = requests.get(url)\n",
    "    data_json2 = weather_response.json()\n",
    "\n",
    "    json_df = pd.json_normalize(data_json2)\n",
    "    #print(json_df)\n",
    "    df = json_df[['name', 'coord.lat', 'coord.lon', 'main.temp_max', 'main.humidity', \n",
    "                 'clouds.all', 'wind.speed','sys.country', 'dt']]\n",
    "\n",
    "    #print(df)\n",
    "    data_frame = data_frame.append(df, ignore_index = True)\n",
    "    \n",
    "   # if((x+1)%50 == 0): # for each set of 50 cities\n",
    "      #  time.sleep(60) # waits 1 minutes\n",
    "     #   set += 1 # increases set number\n",
    "         \n",
    "    #print(data_json)"
   ]
  },
  {
   "cell_type": "code",
   "execution_count": 43,
   "metadata": {
    "scrolled": true
   },
   "outputs": [
    {
     "data": {
      "text/html": [
       "<div>\n",
       "<style scoped>\n",
       "    .dataframe tbody tr th:only-of-type {\n",
       "        vertical-align: middle;\n",
       "    }\n",
       "\n",
       "    .dataframe tbody tr th {\n",
       "        vertical-align: top;\n",
       "    }\n",
       "\n",
       "    .dataframe thead th {\n",
       "        text-align: right;\n",
       "    }\n",
       "</style>\n",
       "<table border=\"1\" class=\"dataframe\">\n",
       "  <thead>\n",
       "    <tr style=\"text-align: right;\">\n",
       "      <th></th>\n",
       "      <th>name</th>\n",
       "      <th>coord.lat</th>\n",
       "      <th>coord.lon</th>\n",
       "      <th>main.temp_max</th>\n",
       "      <th>main.humidity</th>\n",
       "      <th>clouds.all</th>\n",
       "      <th>wind.speed</th>\n",
       "      <th>sys.country</th>\n",
       "      <th>dt</th>\n",
       "    </tr>\n",
       "  </thead>\n",
       "  <tbody>\n",
       "    <tr>\n",
       "      <th>0</th>\n",
       "      <td>Bethel</td>\n",
       "      <td>41.3712</td>\n",
       "      <td>-73.4140</td>\n",
       "      <td>276.54</td>\n",
       "      <td>90</td>\n",
       "      <td>90</td>\n",
       "      <td>1.54</td>\n",
       "      <td>US</td>\n",
       "      <td>1640434739</td>\n",
       "    </tr>\n",
       "    <tr>\n",
       "      <th>1</th>\n",
       "      <td>Butaritari</td>\n",
       "      <td>3.0707</td>\n",
       "      <td>172.7902</td>\n",
       "      <td>300.69</td>\n",
       "      <td>78</td>\n",
       "      <td>100</td>\n",
       "      <td>5.30</td>\n",
       "      <td>KI</td>\n",
       "      <td>1640434740</td>\n",
       "    </tr>\n",
       "    <tr>\n",
       "      <th>2</th>\n",
       "      <td>Avarua</td>\n",
       "      <td>-21.2078</td>\n",
       "      <td>-159.7750</td>\n",
       "      <td>299.18</td>\n",
       "      <td>94</td>\n",
       "      <td>75</td>\n",
       "      <td>2.57</td>\n",
       "      <td>CK</td>\n",
       "      <td>1640434465</td>\n",
       "    </tr>\n",
       "    <tr>\n",
       "      <th>3</th>\n",
       "      <td>Pilar</td>\n",
       "      <td>-9.5972</td>\n",
       "      <td>-35.9567</td>\n",
       "      <td>303.11</td>\n",
       "      <td>49</td>\n",
       "      <td>87</td>\n",
       "      <td>5.25</td>\n",
       "      <td>BR</td>\n",
       "      <td>1640434914</td>\n",
       "    </tr>\n",
       "    <tr>\n",
       "      <th>4</th>\n",
       "      <td>Gulbene</td>\n",
       "      <td>57.1777</td>\n",
       "      <td>26.7529</td>\n",
       "      <td>266.57</td>\n",
       "      <td>77</td>\n",
       "      <td>47</td>\n",
       "      <td>3.24</td>\n",
       "      <td>LV</td>\n",
       "      <td>1640434915</td>\n",
       "    </tr>\n",
       "    <tr>\n",
       "      <th>5</th>\n",
       "      <td>Paranaíba</td>\n",
       "      <td>-19.6772</td>\n",
       "      <td>-51.1908</td>\n",
       "      <td>296.97</td>\n",
       "      <td>61</td>\n",
       "      <td>0</td>\n",
       "      <td>2.58</td>\n",
       "      <td>BR</td>\n",
       "      <td>1640434741</td>\n",
       "    </tr>\n",
       "    <tr>\n",
       "      <th>6</th>\n",
       "      <td>Tete</td>\n",
       "      <td>-16.1564</td>\n",
       "      <td>33.5867</td>\n",
       "      <td>309.20</td>\n",
       "      <td>44</td>\n",
       "      <td>40</td>\n",
       "      <td>4.63</td>\n",
       "      <td>MZ</td>\n",
       "      <td>1640434741</td>\n",
       "    </tr>\n",
       "    <tr>\n",
       "      <th>7</th>\n",
       "      <td>Port Blair</td>\n",
       "      <td>11.6667</td>\n",
       "      <td>92.7500</td>\n",
       "      <td>298.86</td>\n",
       "      <td>74</td>\n",
       "      <td>19</td>\n",
       "      <td>5.13</td>\n",
       "      <td>IN</td>\n",
       "      <td>1640434741</td>\n",
       "    </tr>\n",
       "    <tr>\n",
       "      <th>8</th>\n",
       "      <td>Rawson</td>\n",
       "      <td>-43.3002</td>\n",
       "      <td>-65.1023</td>\n",
       "      <td>296.41</td>\n",
       "      <td>36</td>\n",
       "      <td>0</td>\n",
       "      <td>9.29</td>\n",
       "      <td>AR</td>\n",
       "      <td>1640434742</td>\n",
       "    </tr>\n",
       "    <tr>\n",
       "      <th>9</th>\n",
       "      <td>New Norfolk</td>\n",
       "      <td>-42.7826</td>\n",
       "      <td>147.0587</td>\n",
       "      <td>287.87</td>\n",
       "      <td>60</td>\n",
       "      <td>4</td>\n",
       "      <td>1.34</td>\n",
       "      <td>AU</td>\n",
       "      <td>1640434742</td>\n",
       "    </tr>\n",
       "  </tbody>\n",
       "</table>\n",
       "</div>"
      ],
      "text/plain": [
       "          name  coord.lat  coord.lon  main.temp_max main.humidity clouds.all  \\\n",
       "0       Bethel    41.3712   -73.4140         276.54            90         90   \n",
       "1   Butaritari     3.0707   172.7902         300.69            78        100   \n",
       "2       Avarua   -21.2078  -159.7750         299.18            94         75   \n",
       "3        Pilar    -9.5972   -35.9567         303.11            49         87   \n",
       "4      Gulbene    57.1777    26.7529         266.57            77         47   \n",
       "5    Paranaíba   -19.6772   -51.1908         296.97            61          0   \n",
       "6         Tete   -16.1564    33.5867         309.20            44         40   \n",
       "7   Port Blair    11.6667    92.7500         298.86            74         19   \n",
       "8       Rawson   -43.3002   -65.1023         296.41            36          0   \n",
       "9  New Norfolk   -42.7826   147.0587         287.87            60          4   \n",
       "\n",
       "   wind.speed sys.country          dt  \n",
       "0        1.54          US  1640434739  \n",
       "1        5.30          KI  1640434740  \n",
       "2        2.57          CK  1640434465  \n",
       "3        5.25          BR  1640434914  \n",
       "4        3.24          LV  1640434915  \n",
       "5        2.58          BR  1640434741  \n",
       "6        4.63          MZ  1640434741  \n",
       "7        5.13          IN  1640434741  \n",
       "8        9.29          AR  1640434742  \n",
       "9        1.34          AU  1640434742  "
      ]
     },
     "execution_count": 43,
     "metadata": {},
     "output_type": "execute_result"
    }
   ],
   "source": [
    "data_frame"
   ]
  },
  {
   "cell_type": "markdown",
   "metadata": {},
   "source": [
    "### Convert Raw Data to DataFrame\n",
    "* Export the city data into a .csv.\n",
    "* Display the DataFrame"
   ]
  },
  {
   "cell_type": "code",
   "execution_count": 46,
   "metadata": {},
   "outputs": [
    {
     "data": {
      "text/html": [
       "<div>\n",
       "<style scoped>\n",
       "    .dataframe tbody tr th:only-of-type {\n",
       "        vertical-align: middle;\n",
       "    }\n",
       "\n",
       "    .dataframe tbody tr th {\n",
       "        vertical-align: top;\n",
       "    }\n",
       "\n",
       "    .dataframe thead th {\n",
       "        text-align: right;\n",
       "    }\n",
       "</style>\n",
       "<table border=\"1\" class=\"dataframe\">\n",
       "  <thead>\n",
       "    <tr style=\"text-align: right;\">\n",
       "      <th></th>\n",
       "      <th>name</th>\n",
       "      <th>coord.lat</th>\n",
       "      <th>coord.lon</th>\n",
       "      <th>main.temp_max</th>\n",
       "      <th>main.humidity</th>\n",
       "      <th>clouds.all</th>\n",
       "      <th>wind.speed</th>\n",
       "      <th>sys.country</th>\n",
       "      <th>dt</th>\n",
       "    </tr>\n",
       "  </thead>\n",
       "  <tbody>\n",
       "    <tr>\n",
       "      <th>0</th>\n",
       "      <td>Bethel</td>\n",
       "      <td>41.3712</td>\n",
       "      <td>-73.4140</td>\n",
       "      <td>276.54</td>\n",
       "      <td>90</td>\n",
       "      <td>90</td>\n",
       "      <td>1.54</td>\n",
       "      <td>US</td>\n",
       "      <td>1640434739</td>\n",
       "    </tr>\n",
       "    <tr>\n",
       "      <th>1</th>\n",
       "      <td>Butaritari</td>\n",
       "      <td>3.0707</td>\n",
       "      <td>172.7902</td>\n",
       "      <td>300.69</td>\n",
       "      <td>78</td>\n",
       "      <td>100</td>\n",
       "      <td>5.30</td>\n",
       "      <td>KI</td>\n",
       "      <td>1640434740</td>\n",
       "    </tr>\n",
       "    <tr>\n",
       "      <th>2</th>\n",
       "      <td>Avarua</td>\n",
       "      <td>-21.2078</td>\n",
       "      <td>-159.7750</td>\n",
       "      <td>299.18</td>\n",
       "      <td>94</td>\n",
       "      <td>75</td>\n",
       "      <td>2.57</td>\n",
       "      <td>CK</td>\n",
       "      <td>1640434465</td>\n",
       "    </tr>\n",
       "    <tr>\n",
       "      <th>3</th>\n",
       "      <td>Pilar</td>\n",
       "      <td>-9.5972</td>\n",
       "      <td>-35.9567</td>\n",
       "      <td>303.11</td>\n",
       "      <td>49</td>\n",
       "      <td>87</td>\n",
       "      <td>5.25</td>\n",
       "      <td>BR</td>\n",
       "      <td>1640434914</td>\n",
       "    </tr>\n",
       "    <tr>\n",
       "      <th>4</th>\n",
       "      <td>Gulbene</td>\n",
       "      <td>57.1777</td>\n",
       "      <td>26.7529</td>\n",
       "      <td>266.57</td>\n",
       "      <td>77</td>\n",
       "      <td>47</td>\n",
       "      <td>3.24</td>\n",
       "      <td>LV</td>\n",
       "      <td>1640434915</td>\n",
       "    </tr>\n",
       "    <tr>\n",
       "      <th>5</th>\n",
       "      <td>Paranaíba</td>\n",
       "      <td>-19.6772</td>\n",
       "      <td>-51.1908</td>\n",
       "      <td>296.97</td>\n",
       "      <td>61</td>\n",
       "      <td>0</td>\n",
       "      <td>2.58</td>\n",
       "      <td>BR</td>\n",
       "      <td>1640434741</td>\n",
       "    </tr>\n",
       "    <tr>\n",
       "      <th>6</th>\n",
       "      <td>Tete</td>\n",
       "      <td>-16.1564</td>\n",
       "      <td>33.5867</td>\n",
       "      <td>309.20</td>\n",
       "      <td>44</td>\n",
       "      <td>40</td>\n",
       "      <td>4.63</td>\n",
       "      <td>MZ</td>\n",
       "      <td>1640434741</td>\n",
       "    </tr>\n",
       "    <tr>\n",
       "      <th>7</th>\n",
       "      <td>Port Blair</td>\n",
       "      <td>11.6667</td>\n",
       "      <td>92.7500</td>\n",
       "      <td>298.86</td>\n",
       "      <td>74</td>\n",
       "      <td>19</td>\n",
       "      <td>5.13</td>\n",
       "      <td>IN</td>\n",
       "      <td>1640434741</td>\n",
       "    </tr>\n",
       "    <tr>\n",
       "      <th>8</th>\n",
       "      <td>Rawson</td>\n",
       "      <td>-43.3002</td>\n",
       "      <td>-65.1023</td>\n",
       "      <td>296.41</td>\n",
       "      <td>36</td>\n",
       "      <td>0</td>\n",
       "      <td>9.29</td>\n",
       "      <td>AR</td>\n",
       "      <td>1640434742</td>\n",
       "    </tr>\n",
       "    <tr>\n",
       "      <th>9</th>\n",
       "      <td>New Norfolk</td>\n",
       "      <td>-42.7826</td>\n",
       "      <td>147.0587</td>\n",
       "      <td>287.87</td>\n",
       "      <td>60</td>\n",
       "      <td>4</td>\n",
       "      <td>1.34</td>\n",
       "      <td>AU</td>\n",
       "      <td>1640434742</td>\n",
       "    </tr>\n",
       "  </tbody>\n",
       "</table>\n",
       "</div>"
      ],
      "text/plain": [
       "          name  coord.lat  coord.lon  main.temp_max main.humidity clouds.all  \\\n",
       "0       Bethel    41.3712   -73.4140         276.54            90         90   \n",
       "1   Butaritari     3.0707   172.7902         300.69            78        100   \n",
       "2       Avarua   -21.2078  -159.7750         299.18            94         75   \n",
       "3        Pilar    -9.5972   -35.9567         303.11            49         87   \n",
       "4      Gulbene    57.1777    26.7529         266.57            77         47   \n",
       "5    Paranaíba   -19.6772   -51.1908         296.97            61          0   \n",
       "6         Tete   -16.1564    33.5867         309.20            44         40   \n",
       "7   Port Blair    11.6667    92.7500         298.86            74         19   \n",
       "8       Rawson   -43.3002   -65.1023         296.41            36          0   \n",
       "9  New Norfolk   -42.7826   147.0587         287.87            60          4   \n",
       "\n",
       "   wind.speed sys.country          dt  \n",
       "0        1.54          US  1640434739  \n",
       "1        5.30          KI  1640434740  \n",
       "2        2.57          CK  1640434465  \n",
       "3        5.25          BR  1640434914  \n",
       "4        3.24          LV  1640434915  \n",
       "5        2.58          BR  1640434741  \n",
       "6        4.63          MZ  1640434741  \n",
       "7        5.13          IN  1640434741  \n",
       "8        9.29          AR  1640434742  \n",
       "9        1.34          AU  1640434742  "
      ]
     },
     "execution_count": 46,
     "metadata": {},
     "output_type": "execute_result"
    }
   ],
   "source": [
    "data_frame.rename(columns={'name':'City', 'coord.lat':'Lat', 'coord.lon':'Lng', 'main.temp_max':'Max Temp', \n",
    "                            'main.humidity':'Humidity', 'clouds.all':'Cloudiness', 'wind.speed': 'Wind Speed',\n",
    "                            'sys.country':'Country', 'dt':'Date'})      \n",
    "\n",
    "data_frame.to_csv(path_or_buf='../output_data/cities.csv', index=False)\n",
    "\n",
    "data_frame"
   ]
  },
  {
   "cell_type": "code",
   "execution_count": 47,
   "metadata": {},
   "outputs": [
    {
     "data": {
      "text/html": [
       "<div>\n",
       "<style scoped>\n",
       "    .dataframe tbody tr th:only-of-type {\n",
       "        vertical-align: middle;\n",
       "    }\n",
       "\n",
       "    .dataframe tbody tr th {\n",
       "        vertical-align: top;\n",
       "    }\n",
       "\n",
       "    .dataframe thead th {\n",
       "        text-align: right;\n",
       "    }\n",
       "</style>\n",
       "<table border=\"1\" class=\"dataframe\">\n",
       "  <thead>\n",
       "    <tr style=\"text-align: right;\">\n",
       "      <th></th>\n",
       "      <th>coord.lat</th>\n",
       "      <th>coord.lon</th>\n",
       "      <th>main.temp_max</th>\n",
       "      <th>wind.speed</th>\n",
       "    </tr>\n",
       "  </thead>\n",
       "  <tbody>\n",
       "    <tr>\n",
       "      <th>count</th>\n",
       "      <td>10.000000</td>\n",
       "      <td>10.000000</td>\n",
       "      <td>10.000000</td>\n",
       "      <td>10.000000</td>\n",
       "    </tr>\n",
       "    <tr>\n",
       "      <th>mean</th>\n",
       "      <td>-3.943510</td>\n",
       "      <td>8.749970</td>\n",
       "      <td>293.540000</td>\n",
       "      <td>4.087000</td>\n",
       "    </tr>\n",
       "    <tr>\n",
       "      <th>std</th>\n",
       "      <td>33.109667</td>\n",
       "      <td>105.531880</td>\n",
       "      <td>12.981126</td>\n",
       "      <td>2.371142</td>\n",
       "    </tr>\n",
       "    <tr>\n",
       "      <th>min</th>\n",
       "      <td>-43.300200</td>\n",
       "      <td>-159.775000</td>\n",
       "      <td>266.570000</td>\n",
       "      <td>1.340000</td>\n",
       "    </tr>\n",
       "    <tr>\n",
       "      <th>25%</th>\n",
       "      <td>-20.825150</td>\n",
       "      <td>-61.624425</td>\n",
       "      <td>290.005000</td>\n",
       "      <td>2.572500</td>\n",
       "    </tr>\n",
       "    <tr>\n",
       "      <th>50%</th>\n",
       "      <td>-12.876800</td>\n",
       "      <td>-4.601900</td>\n",
       "      <td>297.915000</td>\n",
       "      <td>3.935000</td>\n",
       "    </tr>\n",
       "    <tr>\n",
       "      <th>75%</th>\n",
       "      <td>9.517700</td>\n",
       "      <td>77.959175</td>\n",
       "      <td>300.312500</td>\n",
       "      <td>5.220000</td>\n",
       "    </tr>\n",
       "    <tr>\n",
       "      <th>max</th>\n",
       "      <td>57.177700</td>\n",
       "      <td>172.790200</td>\n",
       "      <td>309.200000</td>\n",
       "      <td>9.290000</td>\n",
       "    </tr>\n",
       "  </tbody>\n",
       "</table>\n",
       "</div>"
      ],
      "text/plain": [
       "       coord.lat   coord.lon  main.temp_max  wind.speed\n",
       "count  10.000000   10.000000      10.000000   10.000000\n",
       "mean   -3.943510    8.749970     293.540000    4.087000\n",
       "std    33.109667  105.531880      12.981126    2.371142\n",
       "min   -43.300200 -159.775000     266.570000    1.340000\n",
       "25%   -20.825150  -61.624425     290.005000    2.572500\n",
       "50%   -12.876800   -4.601900     297.915000    3.935000\n",
       "75%     9.517700   77.959175     300.312500    5.220000\n",
       "max    57.177700  172.790200     309.200000    9.290000"
      ]
     },
     "execution_count": 47,
     "metadata": {},
     "output_type": "execute_result"
    }
   ],
   "source": [
    "data_frame.describe()"
   ]
  },
  {
   "cell_type": "markdown",
   "metadata": {},
   "source": [
    "## Inspect the data and remove the cities where the humidity > 100%.\n",
    "----\n",
    "Skip this step if there are no cities that have humidity > 100%. "
   ]
  },
  {
   "cell_type": "code",
   "execution_count": null,
   "metadata": {},
   "outputs": [],
   "source": [
    "clean_city_data = data_frame[~(data_frame['Humidity']>100)]"
   ]
  },
  {
   "cell_type": "code",
   "execution_count": null,
   "metadata": {},
   "outputs": [],
   "source": [
    "#  Get the indices of cities that have humidity over 100%.\n"
   ]
  },
  {
   "cell_type": "code",
   "execution_count": null,
   "metadata": {},
   "outputs": [],
   "source": [
    "# Make a new DataFrame equal to the city data to drop all humidity outliers by index.\n",
    "# Passing \"inplace=False\" will make a copy of the city_data DataFrame, which we call \"clean_city_data\".\n",
    "clean_city_data"
   ]
  },
  {
   "cell_type": "code",
   "execution_count": null,
   "metadata": {},
   "outputs": [],
   "source": [
    "\n"
   ]
  },
  {
   "cell_type": "markdown",
   "metadata": {},
   "source": [
    "## Plotting the Data\n",
    "* Use proper labeling of the plots using plot titles (including date of analysis) and axes labels.\n",
    "* Save the plotted figures as .pngs."
   ]
  },
  {
   "cell_type": "markdown",
   "metadata": {},
   "source": [
    "## Latitude vs. Temperature Plot"
   ]
  },
  {
   "cell_type": "code",
   "execution_count": null,
   "metadata": {
    "scrolled": true
   },
   "outputs": [],
   "source": [
    "date_str = date.today().strftime(\"%d/%m/%Y\")\n",
    "clean_city_data.plot.scatter(x='Lat', y='Max Temp', xlabel = 'Latitude', ylabel = 'Max Temperature (F)',\n",
    "                             title = \"City Latitude vs Max Temperature (\" + date_str + \")\", grid=True)\n",
    "\n",
    "plt.savefig(\"../output_data/Fig1.png\")\n",
    "plt.show()"
   ]
  },
  {
   "cell_type": "markdown",
   "metadata": {},
   "source": [
    "## Latitude vs. Humidity Plot"
   ]
  },
  {
   "cell_type": "code",
   "execution_count": null,
   "metadata": {},
   "outputs": [],
   "source": [
    "date_str = date.today().strftime(\"%d/%m/%Y\")\n",
    "clean_city_data.plot.scatter(x='Lat', y='Max Temp', xlabel = 'Latitude', ylabel = 'Max Temperature (F)',\n",
    "                             title = \"City Latitude vs Max Temperature (\" + date_str + \")\", grid=True)\n",
    "\n",
    "plt.savefig(\"../output_data/Fig1.png\")\n",
    "plt.show()"
   ]
  },
  {
   "cell_type": "markdown",
   "metadata": {},
   "source": [
    "## Latitude vs. Cloudiness Plot"
   ]
  },
  {
   "cell_type": "code",
   "execution_count": null,
   "metadata": {},
   "outputs": [],
   "source": [
    "clean_city_data.plot.scatter(x='Lat', y='Cloudiness', xlabel = 'Latitude', ylabel = 'Cloudiness (%)',\n",
    "                             title = \"City Latitude vs Cloudiness (\" + date_str + \")\", grid=True)\n",
    "\n",
    "plt.savefig(\"../output_data/Fig3.png\")\n",
    "plt.show()"
   ]
  },
  {
   "cell_type": "markdown",
   "metadata": {},
   "source": [
    "## Latitude vs. Wind Speed Plot"
   ]
  },
  {
   "cell_type": "code",
   "execution_count": null,
   "metadata": {},
   "outputs": [],
   "source": [
    "clean_city_data.plot.scatter(x='Lat', y='Wind Speed', xlabel = 'Latitude', ylabel = 'Wind Speed (mph)',\n",
    "                             title = \"City Latitude vs Wind Speed (\" + date_str + \")\", grid=True)\n",
    "\n",
    "plt.savefig(\"../output_data/Fig4.png\")\n",
    "plt.show()"
   ]
  },
  {
   "cell_type": "markdown",
   "metadata": {},
   "source": [
    "## Linear Regression"
   ]
  },
  {
   "cell_type": "code",
   "execution_count": null,
   "metadata": {},
   "outputs": [],
   "source": [
    "north_hem = clean_city_data[(clean_city_data['Lat']>=0)]\n",
    "south_hem = clean_city_data[(clean_city_data['Lat']<0)]"
   ]
  },
  {
   "cell_type": "markdown",
   "metadata": {},
   "source": [
    "####  Northern Hemisphere - Max Temp vs. Latitude Linear Regression"
   ]
  },
  {
   "cell_type": "code",
   "execution_count": null,
   "metadata": {},
   "outputs": [],
   "source": [
    "slope, intercept, r_value, p_value, std_err = st.linregress(north_hem['Lat'], north_hem['Max Temp'])\n",
    "print(\"The r-value is:\", r_value)\n",
    "# print(\"Slope:\", slope, \"Intercept: \", intercept)\n",
    "\n",
    "north_hem.plot.scatter(x='Lat', y='Max Temp', xlabel = 'Latitude', ylabel = 'Max Temp', \n",
    "                       title = \"Northern Hemisphere - Max Temp vs. Latitude Linear Regression\", \n",
    "                       grid=False)\n",
    "\n",
    "x = np.array(north_hem['Lat'])\n",
    "y = np.array(north_hem['Max Temp'])\n",
    "\n",
    "# slope, intercept = np.polyfit(x, y, 1)\n",
    "# print(\"Slope:\", slope, \"Intercept: \", intercept)\n",
    "\n",
    "formula = ( \"y = \" + \"{}\".format(round(slope, 2)) + \" * x + \" + \"{}\".format(round(intercept, 2)) )\n",
    "plt.text(10, 230, formula, fontsize=12, color=\"red\")\n",
    "\n",
    "plt.plot(x, slope * x + intercept, color=\"red\", linewidth=2, linestyle='-')\n",
    "plt.show()"
   ]
  },
  {
   "cell_type": "markdown",
   "metadata": {},
   "source": [
    "####  Southern Hemisphere - Max Temp vs. Latitude Linear Regression"
   ]
  },
  {
   "cell_type": "code",
   "execution_count": null,
   "metadata": {},
   "outputs": [],
   "source": [
    "slope, intercept, r_value, p_value, std_err = st.linregress(south_hem['Lat'], south_hem['Max Temp'])\n",
    "print(\"The r-value is:\", r_value)\n",
    "\n",
    "south_hem.plot.scatter(x='Lat', y='Max Temp', xlabel = 'Latitude', ylabel = 'Max Temp', \n",
    "                       title = \"Southern Hemisphere - Max Temp vs. Latitude Linear Regression\", \n",
    "                       grid=False)\n",
    "\n",
    "x = np.array(south_hem['Lat'])\n",
    "y = np.array(south_hem['Max Temp'])\n",
    "\n",
    "formula = ( \"y = \" + \"{}\".format(round(slope, 2)) + \" * x + \" + \"{}\".format(round(intercept, 2)) )\n",
    "plt.text(-45, 280, formula, fontsize=12, color=\"red\")\n",
    "\n",
    "plt.plot(x, slope * x + intercept, color=\"red\", linewidth=2, linestyle='-')\n",
    "plt.show()"
   ]
  },
  {
   "cell_type": "markdown",
   "metadata": {},
   "source": [
    "####  Northern Hemisphere - Humidity (%) vs. Latitude Linear Regression"
   ]
  },
  {
   "cell_type": "code",
   "execution_count": null,
   "metadata": {},
   "outputs": [],
   "source": [
    "slope, intercept, r_value, p_value, std_err = st.linregress(north_hem['Lat'], north_hem['Humidity'])\n",
    "print(\"The r-value is:\", r_value)\n",
    "\n",
    "north_hem.plot.scatter(x='Lat', y='Humidity', xlabel = 'Latitude', ylabel = 'Humidity', \n",
    "                       title = \"Northern Hemisphere - Humidity (%) vs. Latitude Linear Regression\", \n",
    "                       grid=False)\n",
    "\n",
    "x = np.array(north_hem['Lat'])\n",
    "y = np.array(north_hem['Humidity'])\n",
    "\n",
    "formula = ( \"y = \" + \"{}\".format(round(slope, 2)) + \" * x + \" + \"{}\".format(round(intercept, 2)) )\n",
    "plt.text(40, 10, formula, fontsize=12, color=\"red\")\n",
    "\n",
    "plt.plot(x, slope * x + intercept, color=\"red\", linewidth=2, linestyle='-')\n",
    "plt.show()"
   ]
  },
  {
   "cell_type": "markdown",
   "metadata": {},
   "source": [
    "####  Southern Hemisphere - Humidity (%) vs. Latitude Linear Regression"
   ]
  },
  {
   "cell_type": "code",
   "execution_count": null,
   "metadata": {},
   "outputs": [],
   "source": [
    "slope, intercept, r_value, p_value, std_err = st.linregress(south_hem['Lat'], south_hem['Humidity'])\n",
    "print(\"The r-value is:\", r_value)\n",
    "\n",
    "south_hem.plot.scatter(x='Lat', y='Humidity', xlabel = 'Latitude', ylabel = 'Humidity', \n",
    "                       title = \"Southern Hemisphere - Humidity (%) vs. Latitude Linear Regression\", \n",
    "                       grid=False)\n",
    "\n",
    "x = np.array(south_hem['Lat'])\n",
    "y = np.array(south_hem['Humidity'])\n",
    "\n",
    "formula = ( \"y = \" + \"{}\".format(round(slope, 2)) + \" * x + \" + \"{}\".format(round(intercept, 2)) )\n",
    "plt.text(-45, 17, formula, fontsize=12, color=\"red\")\n",
    "\n",
    "plt.plot(x, slope * x + intercept, color=\"red\", linewidth=2, linestyle='-')\n",
    "plt.show()"
   ]
  },
  {
   "cell_type": "markdown",
   "metadata": {},
   "source": [
    "####  Northern Hemisphere - Cloudiness (%) vs. Latitude Linear Regression"
   ]
  },
  {
   "cell_type": "code",
   "execution_count": null,
   "metadata": {},
   "outputs": [],
   "source": [
    "slope, intercept, r_value, p_value, std_err = st.linregress(north_hem['Lat'], north_hem['Cloudiness'])\n",
    "print(\"The r-value is:\", r_value)\n",
    "\n",
    "north_hem.plot.scatter(x='Lat', y='Cloudiness', xlabel = 'Latitude', ylabel = 'Cloudiness', \n",
    "                       title = \"Northern Hemisphere - Cloudiness (%) vs. Latitude Linear Regression\", \n",
    "                       grid=False)\n",
    "\n",
    "x = np.array(north_hem['Lat'])\n",
    "y = np.array(north_hem['Cloudiness'])\n",
    "\n",
    "formula = ( \"y = \" + \"{}\".format(round(slope, 2)) + \" * x + \" + \"{}\".format(round(intercept, 2)) )\n",
    "plt.text(0, 10, formula, fontsize=12, color=\"red\")\n",
    "\n",
    "plt.plot(x, slope * x + intercept, color=\"red\", linewidth=2, linestyle='-')\n",
    "plt.show()"
   ]
  },
  {
   "cell_type": "markdown",
   "metadata": {},
   "source": [
    "####  Southern Hemisphere - Cloudiness (%) vs. Latitude Linear Regression"
   ]
  },
  {
   "cell_type": "code",
   "execution_count": null,
   "metadata": {},
   "outputs": [],
   "source": [
    "slope, intercept, r_value, p_value, std_err = st.linregress(south_hem['Lat'], south_hem['Cloudiness'])\n",
    "print(\"The r-value is:\", r_value)\n",
    "\n",
    "south_hem.plot.scatter(x='Lat', y='Cloudiness', xlabel = 'Latitude', ylabel = 'Cloudiness', \n",
    "                       title = \"Southern Hemisphere - Cloudiness (%) vs. Latitude Linear Regression\", \n",
    "                       grid=False)\n",
    "\n",
    "x = np.array(south_hem['Lat'])\n",
    "y = np.array(south_hem['Cloudiness'])\n",
    "\n",
    "formula = ( \"y = \" + \"{}\".format(round(slope, 2)) + \" * x + \" + \"{}\".format(round(intercept, 2)) )\n",
    "plt.text(-50, 15, formula, fontsize=12, color=\"red\")\n",
    "\n",
    "plt.plot(x, slope * x + intercept, color=\"red\", linewidth=2, linestyle='-')\n",
    "plt.show()"
   ]
  },
  {
   "cell_type": "markdown",
   "metadata": {},
   "source": [
    "####  Northern Hemisphere - Wind Speed (mph) vs. Latitude Linear Regression"
   ]
  },
  {
   "cell_type": "code",
   "execution_count": null,
   "metadata": {},
   "outputs": [],
   "source": [
    "slope, intercept, r_value, p_value, std_err = st.linregress(north_hem['Lat'], north_hem['Wind Speed'])\n",
    "print(\"The r-value is:\", r_value)\n",
    "\n",
    "north_hem.plot.scatter(x='Lat', y='Wind Speed', xlabel = 'Latitude', ylabel = 'Wind Speed', \n",
    "                       title = \"Northern Hemisphere - Wind Speed (mph) vs. Latitude Linear Regression\", \n",
    "                       grid=False)\n",
    "\n",
    "x = np.array(north_hem['Lat'])\n",
    "y = np.array(north_hem['Wind Speed'])\n",
    "\n",
    "formula = ( \"y = \" + \"{}\".format(round(slope, 2)) + \" * x + \" + \"{}\".format(round(intercept, 2)) )\n",
    "plt.text(0, 14, formula, fontsize=12, color=\"red\")\n",
    "\n",
    "plt.plot(x, slope * x + intercept, color=\"red\", linewidth=2, linestyle='-')\n",
    "plt.show()"
   ]
  },
  {
   "cell_type": "markdown",
   "metadata": {},
   "source": [
    "####  Southern Hemisphere - Wind Speed (mph) vs. Latitude Linear Regression"
   ]
  },
  {
   "cell_type": "code",
   "execution_count": null,
   "metadata": {},
   "outputs": [],
   "source": [
    "slope, intercept, r_value, p_value, std_err = st.linregress(south_hem['Lat'], south_hem['Wind Speed'])\n",
    "print(\"The r-value is:\", r_value)\n",
    "\n",
    "south_hem.plot.scatter(x='Lat', y='Wind Speed', xlabel = 'Latitude', ylabel = 'Wind Speed', \n",
    "                       title = \"Southern Hemisphere - Wind Speed (mph) vs. Latitude Linear Regression\", \n",
    "                       grid=False)\n",
    "\n",
    "x = np.array(south_hem['Lat'])\n",
    "y = np.array(south_hem['Wind Speed'])\n",
    "\n",
    "formula = ( \"y = \" + \"{}\".format(round(slope, 2)) + \" * x + \" + \"{}\".format(round(intercept, 2)) )\n",
    "plt.text(-55, 0, formula, fontsize=12, color=\"red\")\n",
    "\n",
    "plt.plot(x, slope * x + intercept, color=\"red\", linewidth=2, linestyle='-')\n",
    "plt.show()"
   ]
  },
  {
   "cell_type": "code",
   "execution_count": null,
   "metadata": {},
   "outputs": [],
   "source": []
  }
 ],
 "metadata": {
  "anaconda-cloud": {},
  "kernel_info": {
   "name": "python3"
  },
  "kernelspec": {
   "display_name": "Python 3",
   "language": "python",
   "name": "python3"
  },
  "language_info": {
   "codemirror_mode": {
    "name": "ipython",
    "version": 3
   },
   "file_extension": ".py",
   "mimetype": "text/x-python",
   "name": "python",
   "nbconvert_exporter": "python",
   "pygments_lexer": "ipython3",
   "version": "3.8.8"
  },
  "latex_envs": {
   "LaTeX_envs_menu_present": true,
   "autoclose": false,
   "autocomplete": true,
   "bibliofile": "biblio.bib",
   "cite_by": "apalike",
   "current_citInitial": 1,
   "eqLabelWithNumbers": true,
   "eqNumInitial": 1,
   "hotkeys": {
    "equation": "Ctrl-E",
    "itemize": "Ctrl-I"
   },
   "labels_anchors": false,
   "latex_user_defs": false,
   "report_style_numbering": false,
   "user_envs_cfg": false
  },
  "nteract": {
   "version": "0.12.3"
  }
 },
 "nbformat": 4,
 "nbformat_minor": 4
}
