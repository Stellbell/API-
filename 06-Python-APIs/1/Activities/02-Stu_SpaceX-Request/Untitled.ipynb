{
 "cells": [
  {
   "cell_type": "code",
   "execution_count": 2,
   "id": "e0e1125c-340c-43e2-8b9d-3ea2414577e4",
   "metadata": {},
   "outputs": [],
   "source": [
    "import json\n",
    "import requests"
   ]
  },
  {
   "cell_type": "code",
   "execution_count": 3,
   "id": "b3f21829-920c-4690-afe0-456ce9007b15",
   "metadata": {},
   "outputs": [],
   "source": [
    "url= \"http://api.spacexdata.com/v2/launchpads\""
   ]
  },
  {
   "cell_type": "code",
   "execution_count": 5,
   "id": "47134c24-1401-4f1a-8838-c95a890efbe1",
   "metadata": {},
   "outputs": [
    {
     "name": "stdout",
     "output_type": "stream",
     "text": [
      "<bound method Response.json of <Response [200]>>\n"
     ]
    }
   ],
   "source": [
    "print(requests.get(url).json)"
   ]
  },
  {
   "cell_type": "code",
   "execution_count": 6,
   "id": "2a576eb0-0f4a-4559-97e0-4d52206dcaa2",
   "metadata": {},
   "outputs": [
    {
     "ename": "SyntaxError",
     "evalue": "invalid syntax (<ipython-input-6-0784b20437b3>, line 4)",
     "output_type": "error",
     "traceback": [
      "\u001b[0;36m  File \u001b[0;32m\"<ipython-input-6-0784b20437b3>\"\u001b[0;36m, line \u001b[0;32m4\u001b[0m\n\u001b[0;31m    print(json.dumps(response_json, indent =4 sort_keys=True)\u001b[0m\n\u001b[0m                                              ^\u001b[0m\n\u001b[0;31mSyntaxError\u001b[0m\u001b[0;31m:\u001b[0m invalid syntax\n"
     ]
    }
   ],
   "source": [
    "response= requests.get.url\n",
    "response= response_json\n",
    "\n",
    "print(json.dumps(response_json, indent =4 sort_keys=True)"
   ]
  },
  {
   "cell_type": "code",
   "execution_count": null,
   "id": "20bcfc08-b1c5-461a-aa45-740249d2a3d3",
   "metadata": {},
   "outputs": [],
   "source": []
  }
 ],
 "metadata": {
  "kernelspec": {
   "display_name": "Python 3",
   "language": "python",
   "name": "python3"
  },
  "language_info": {
   "codemirror_mode": {
    "name": "ipython",
    "version": 3
   },
   "file_extension": ".py",
   "mimetype": "text/x-python",
   "name": "python",
   "nbconvert_exporter": "python",
   "pygments_lexer": "ipython3",
   "version": "3.8.8"
  }
 },
 "nbformat": 4,
 "nbformat_minor": 5
}
